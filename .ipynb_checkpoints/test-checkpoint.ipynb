{
 "cells": [
  {
   "cell_type": "code",
   "execution_count": null,
   "id": "77af8bd9-6198-4bc0-acf6-a6ea01a5ad5a",
   "metadata": {},
   "outputs": [],
   "source": [
    "!python tools/test.py --cfg experiments/coco/hrnet/w48_256x192_adam_lr1e-3.yaml"
   ]
  }
 ],
 "metadata": {
  "kernelspec": {
   "display_name": "Python 3 (ipykernel)",
   "language": "python",
   "name": "python3"
  },
  "language_info": {
   "codemirror_mode": {
    "name": "ipython",
    "version": 3
   },
   "file_extension": ".py",
   "mimetype": "text/x-python",
   "name": "python",
   "nbconvert_exporter": "python",
   "pygments_lexer": "ipython3",
   "version": "3.8.5"
  }
 },
 "nbformat": 4,
 "nbformat_minor": 5
}
