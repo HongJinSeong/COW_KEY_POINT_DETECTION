{
 "cells": [
  {
   "cell_type": "code",
   "execution_count": 59,
   "id": "198a6b7f-c6bb-43d8-bf1f-e7ebaec68ff4",
   "metadata": {},
   "outputs": [
    {
     "name": "stdout",
     "output_type": "stream",
     "text": [
      "Traceback (most recent call last):\n",
      "  File \"tools/train.py\", line 228, in <module>\n",
      "    main()\n",
      "  File \"tools/train.py\", line 78, in main\n",
      "    update_config(cfg, args)\n",
      "  File \"/root/HRNET/tools/../lib/config/default.py\", line 128, in update_config\n",
      "    cfg.merge_from_file(args.cfg)\n",
      "  File \"/opt/conda/lib/python3.8/site-packages/yacs/config.py\", line 213, in merge_from_file\n",
      "    self.merge_from_other_cfg(cfg)\n",
      "  File \"/opt/conda/lib/python3.8/site-packages/yacs/config.py\", line 217, in merge_from_other_cfg\n",
      "    _merge_a_into_b(cfg_other, self, self, [])\n",
      "  File \"/opt/conda/lib/python3.8/site-packages/yacs/config.py\", line 478, in _merge_a_into_b\n",
      "    _merge_a_into_b(v, b[k], root, key_list + [k])\n",
      "  File \"/opt/conda/lib/python3.8/site-packages/yacs/config.py\", line 491, in _merge_a_into_b\n",
      "    raise KeyError(\"Non-existent config key: {}\".format(full_key))\n",
      "KeyError: 'Non-existent config key: DATASET.TRAIN_PATH'\n"
     ]
    }
   ],
   "source": [
    "!python tools/train.py --cfg experiments/coco/hrnet/w48_256x192_adam_lr1e-3.yaml"
   ]
  },
  {
   "cell_type": "code",
   "execution_count": 13,
   "id": "fe28d0ea-f15d-4bff-88b6-aee3b291a7af",
   "metadata": {},
   "outputs": [
    {
     "name": "stdout",
     "output_type": "stream",
     "text": [
      "w32_256x192_adam_lr1e-3.yaml  w48_256x192_adam_lr1e-3.yaml\n",
      "w32_384x288_adam_lr1e-3.yaml  w48_384x288_adam_lr1e-3.yaml\n"
     ]
    }
   ],
   "source": [
    "ls experiments/coco/hrnet"
   ]
  },
  {
   "cell_type": "code",
   "execution_count": 69,
   "id": "a1d2aaae-fb74-4432-9ea5-c510bf1d0a3e",
   "metadata": {},
   "outputs": [
    {
     "data": {
      "text/plain": [
       "-41"
      ]
     },
     "execution_count": 69,
     "metadata": {},
     "output_type": "execute_result"
    }
   ],
   "source": [
    "import random\n",
    "random.randrange(-50,50)"
   ]
  },
  {
   "cell_type": "code",
   "execution_count": 66,
   "id": "c3f42e96-5ebe-4311-8149-24cafca3d879",
   "metadata": {},
   "outputs": [
    {
     "name": "stdout",
     "output_type": "stream",
     "text": [
      "The tensorboard extension is already loaded. To reload it, use:\n",
      "  %reload_ext tensorboard\n"
     ]
    },
    {
     "data": {
      "text/plain": [
       "Reusing TensorBoard on port 6006 (pid 27973), started 0:00:20 ago. (Use '!kill 27973' to kill it.)"
      ]
     },
     "metadata": {},
     "output_type": "display_data"
    },
    {
     "data": {
      "text/html": [
       "\n",
       "      <iframe id=\"tensorboard-frame-78d6f1edaa72be6f\" width=\"100%\" height=\"800\" frameborder=\"0\">\n",
       "      </iframe>\n",
       "      <script>\n",
       "        (function() {\n",
       "          const frame = document.getElementById(\"tensorboard-frame-78d6f1edaa72be6f\");\n",
       "          const url = new URL(\"/\", window.location);\n",
       "          const port = 6006;\n",
       "          if (port) {\n",
       "            url.port = port;\n",
       "          }\n",
       "          frame.src = url;\n",
       "        })();\n",
       "      </script>\n",
       "    "
      ],
      "text/plain": [
       "<IPython.core.display.HTML object>"
      ]
     },
     "metadata": {},
     "output_type": "display_data"
    }
   ],
   "source": [
    "%load_ext tensorboard\n",
    "%tensorboard --logdir=log/coco/pose_hrnet"
   ]
  },
  {
   "cell_type": "code",
   "execution_count": null,
   "id": "6f278994-07da-452a-a8cd-1a302d868c11",
   "metadata": {},
   "outputs": [],
   "source": []
  }
 ],
 "metadata": {
  "kernelspec": {
   "display_name": "Python 3 (ipykernel)",
   "language": "python",
   "name": "python3"
  },
  "language_info": {
   "codemirror_mode": {
    "name": "ipython",
    "version": 3
   },
   "file_extension": ".py",
   "mimetype": "text/x-python",
   "name": "python",
   "nbconvert_exporter": "python",
   "pygments_lexer": "ipython3",
   "version": "3.8.5"
  }
 },
 "nbformat": 4,
 "nbformat_minor": 5
}
